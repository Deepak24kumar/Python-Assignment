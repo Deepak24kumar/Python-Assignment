{
  "nbformat": 4,
  "nbformat_minor": 0,
  "metadata": {
    "colab": {
      "provenance": []
    },
    "kernelspec": {
      "name": "python3",
      "display_name": "Python 3"
    },
    "language_info": {
      "name": "python"
    }
  },
  "cells": [
    {
      "cell_type": "markdown",
      "source": [
        "1. Explain the key features of Python that make it a popular choice for programming?\n",
        "\n",
        "Ans. 1 Python is widely used due to several powerful features:\n",
        "\n",
        "- Easy to Read and Write: Python syntax is clean and resembles plain English, which makes coding more intuitive.\n",
        "\n",
        "- Interpreted Language: Code is executed line by line, helping with debugging.\n",
        "\n",
        "- Dynamically Typed: You don’t need to declare variable types explicitly.\n",
        "\n",
        "- Extensive Libraries: Python has a rich collection of libraries (like NumPy, pandas, and Django) for various applications.\n",
        "\n",
        "- Cross-Platform: Python runs on different operating systems without requiring changes in the code.\n",
        "\n",
        "- Community Support: A large community means better support and more shared resources.\n",
        "\n",
        "- Object-Oriented and Procedural: It supports multiple programming paradigms, making it flexible for different projects.\n",
        "\n",
        "\n",
        "\n",
        "\n",
        "2. Describe the role of predefined keywords in Python and provide examples of how they are used in a\n",
        "program?\n",
        "\n",
        "\n",
        "Ans 2. Role of Predefined Keywords in Python -\n",
        "- Predefined keywords are reserved words that have special meaning in Python. They form the basic structure of the language and cannot be used as variable names.\n"
      ],
      "metadata": {
        "id": "cqjHDWeXlTjY"
      }
    },
    {
      "cell_type": "code",
      "source": [
        "if = 10  # Invalid: 'if' is a keyword\n"
      ],
      "metadata": {
        "colab": {
          "base_uri": "https://localhost:8080/",
          "height": 106
        },
        "id": "3STF6SfdoR4Q",
        "outputId": "802cc541-8c7a-424d-b957-aeb4eeeacd4b"
      },
      "execution_count": 14,
      "outputs": [
        {
          "output_type": "error",
          "ename": "SyntaxError",
          "evalue": "invalid syntax (<ipython-input-14-4899c80dba66>, line 1)",
          "traceback": [
            "\u001b[0;36m  File \u001b[0;32m\"<ipython-input-14-4899c80dba66>\"\u001b[0;36m, line \u001b[0;32m1\u001b[0m\n\u001b[0;31m    if = 10  # Invalid: 'if' is a keyword\u001b[0m\n\u001b[0m       ^\u001b[0m\n\u001b[0;31mSyntaxError\u001b[0m\u001b[0;31m:\u001b[0m invalid syntax\n"
          ]
        }
      ]
    },
    {
      "cell_type": "markdown",
      "source": [
        "Here are a few keywords with examples:\n",
        "\n",
        "- if, else, elif: used for conditional branching\n",
        "\n",
        "- for, while: used in loops\n",
        "\n",
        "- def: defines a function\n",
        "\n",
        "- return: sends back a result from a function"
      ],
      "metadata": {
        "id": "mZ3adJJ5obmu"
      }
    },
    {
      "cell_type": "code",
      "source": [
        "def greet(name):\n",
        "    if name:\n",
        "        return \"Hello, \" + name\n",
        "    else:\n",
        "        return \"Hello!\"\n"
      ],
      "metadata": {
        "id": "BlthT33uoi5y"
      },
      "execution_count": 13,
      "outputs": []
    },
    {
      "cell_type": "markdown",
      "source": [
        "3. Compare and contrast mutable and immutable objects in Python with examples?\n",
        "\n",
        "Ans 3. Mutable: Can be changed after creation\n",
        "Example: Lists, dictionaries, sets"
      ],
      "metadata": {
        "id": "RvhW_T4yorBK"
      }
    },
    {
      "cell_type": "code",
      "source": [
        "my_list = [1, 2, 3]\n",
        "my_list.append(4)\n",
        "print(my_list)  # Output: [1, 2, 3, 4]\n"
      ],
      "metadata": {
        "colab": {
          "base_uri": "https://localhost:8080/"
        },
        "id": "MBYy5ptKo43G",
        "outputId": "f20deadf-41cb-45ac-9506-a6b9fbd405b1"
      },
      "execution_count": 12,
      "outputs": [
        {
          "output_type": "stream",
          "name": "stdout",
          "text": [
            "[1, 2, 3, 4]\n"
          ]
        }
      ]
    },
    {
      "cell_type": "markdown",
      "source": [],
      "metadata": {
        "id": "Xy8gxgjQo9SM"
      }
    },
    {
      "cell_type": "markdown",
      "source": [
        "Immutable: Cannot be changed after creation\n",
        "Example: Integers, strings, tuples"
      ],
      "metadata": {
        "id": "sKFnag5upPZO"
      }
    },
    {
      "cell_type": "code",
      "source": [
        "my_string = \"hello\"\n",
        "my_string = my_string + \" world\"\n",
        "print(my_string)  # A new string is created, old one remains unchanged\n"
      ],
      "metadata": {
        "colab": {
          "base_uri": "https://localhost:8080/"
        },
        "id": "iad6N-U-pSar",
        "outputId": "6b7b77bd-5354-4522-9a9a-1f117cd65205"
      },
      "execution_count": 11,
      "outputs": [
        {
          "output_type": "stream",
          "name": "stdout",
          "text": [
            "hello world\n"
          ]
        }
      ]
    },
    {
      "cell_type": "markdown",
      "source": [
        "- Mutable objects can be modified without changing their identity, while immutable ones cannot.\n",
        "\n"
      ],
      "metadata": {
        "id": "S6nWbFCYph2f"
      }
    },
    {
      "cell_type": "markdown",
      "source": [
        "4. Discuss the different types of operators in Python and provide examples of how they are used?\n",
        "\n",
        "Ans 4. Python supports several types of operators:"
      ],
      "metadata": {
        "id": "OgZjvrgupjKV"
      }
    },
    {
      "cell_type": "markdown",
      "source": [
        "- Arithmetic Operators: +, -, *, /, %, //, **\n"
      ],
      "metadata": {
        "id": "xd6YO3Dpp8lu"
      }
    },
    {
      "cell_type": "code",
      "source": [
        "a = 9\n",
        "print(a + 2)  # Output: 11"
      ],
      "metadata": {
        "colab": {
          "base_uri": "https://localhost:8080/"
        },
        "id": "gwT9FAMqqAgo",
        "outputId": "45b52271-8237-4435-ebfb-52e48c5bee75"
      },
      "execution_count": 10,
      "outputs": [
        {
          "output_type": "stream",
          "name": "stdout",
          "text": [
            "11\n"
          ]
        }
      ]
    },
    {
      "cell_type": "markdown",
      "source": [
        "- Comparison Operators: ==, !=, >, <, >=, <="
      ],
      "metadata": {
        "id": "rPhZuqDoqLwL"
      }
    },
    {
      "cell_type": "code",
      "source": [
        "print(8 > 4)  # Output: True"
      ],
      "metadata": {
        "colab": {
          "base_uri": "https://localhost:8080/"
        },
        "id": "fBv926O_qYem",
        "outputId": "ae519906-2b27-49de-a736-6cda1d6c0ad7"
      },
      "execution_count": 9,
      "outputs": [
        {
          "output_type": "stream",
          "name": "stdout",
          "text": [
            "True\n"
          ]
        }
      ]
    },
    {
      "cell_type": "markdown",
      "source": [
        "- Logical Operators: and, or, not"
      ],
      "metadata": {
        "id": "dK-GssaEqbLr"
      }
    },
    {
      "cell_type": "code",
      "source": [
        "print(True and False)  # Output: False"
      ],
      "metadata": {
        "id": "_ZUtyWT9qeKc"
      },
      "execution_count": null,
      "outputs": []
    },
    {
      "cell_type": "markdown",
      "source": [
        "- Assignment Operators: =, +=, -=, etc."
      ],
      "metadata": {
        "id": "_1jX8KlQqgXL"
      }
    },
    {
      "cell_type": "code",
      "source": [
        "x = 6\n",
        "x += 7\n",
        "print(x)  # Output: 13"
      ],
      "metadata": {
        "colab": {
          "base_uri": "https://localhost:8080/"
        },
        "id": "aiLByqgrqjh_",
        "outputId": "cc4ed07e-c0b6-499d-cb63-962f18f7bbaf"
      },
      "execution_count": 8,
      "outputs": [
        {
          "output_type": "stream",
          "name": "stdout",
          "text": [
            "13\n"
          ]
        }
      ]
    },
    {
      "cell_type": "markdown",
      "source": [
        "5. Explain the concept of type casting in Python with examples?\n",
        "\n",
        "Ans 5. Type casting refers to converting a value from one data type to another.\n",
        "\n",
        "Examples:\n",
        "\n",
        "- int() – converts to integer\n",
        "\n",
        "- float() – converts to float\n",
        "\n",
        "- str() – converts to string\n",
        "\n",
        "- list(), tuple() – for collection types"
      ],
      "metadata": {
        "id": "pm5lZI4UqmSQ"
      }
    },
    {
      "cell_type": "code",
      "source": [
        "a = \"50\"\n",
        "b = int(a)\n",
        "print(b + 5)  # Output: 55"
      ],
      "metadata": {
        "colab": {
          "base_uri": "https://localhost:8080/"
        },
        "id": "MvC1W7SPq6w6",
        "outputId": "564625a6-88be-4c90-b15d-3b7068d0be37"
      },
      "execution_count": 3,
      "outputs": [
        {
          "output_type": "stream",
          "name": "stdout",
          "text": [
            "55\n"
          ]
        }
      ]
    },
    {
      "cell_type": "code",
      "source": [
        "x = 5.6\n",
        "y = str(x)\n",
        "print(\"Value is \" + y)  # Output: Value is 5.6"
      ],
      "metadata": {
        "colab": {
          "base_uri": "https://localhost:8080/"
        },
        "id": "QD9RR9Vdq9k3",
        "outputId": "72984a5a-38a7-41a3-dbc1-01aa4c971938"
      },
      "execution_count": 4,
      "outputs": [
        {
          "output_type": "stream",
          "name": "stdout",
          "text": [
            "Value is 5.6\n"
          ]
        }
      ]
    },
    {
      "cell_type": "markdown",
      "source": [
        "6. How do conditional statements work in Python? Illustrate with examples?\n",
        "\n",
        "Ans 6. These are used to make decisions in the code.\n"
      ],
      "metadata": {
        "id": "MAPi6cflq_2q"
      }
    },
    {
      "cell_type": "code",
      "source": [
        "if condition:\n",
        "    # code block\n",
        "elif another_condition:\n",
        "    # code block\n",
        "else:\n",
        "    # code block"
      ],
      "metadata": {
        "id": "f3JEJdp0rNY2"
      },
      "execution_count": null,
      "outputs": []
    },
    {
      "cell_type": "code",
      "source": [
        "age = 21\n",
        "if age >= 18:\n",
        "    print(\"Eligible to vote\")\n",
        "else:\n",
        "    print(\"Not eligible\")"
      ],
      "metadata": {
        "colab": {
          "base_uri": "https://localhost:8080/"
        },
        "id": "cuvIHnT9rP-9",
        "outputId": "ba343fed-88f7-4126-c745-63f381f4481b"
      },
      "execution_count": 5,
      "outputs": [
        {
          "output_type": "stream",
          "name": "stdout",
          "text": [
            "Eligible to vote\n"
          ]
        }
      ]
    },
    {
      "cell_type": "markdown",
      "source": [
        "7. Describe the different types of loops in Python and their use cases with examples?\n",
        "\n",
        "Ans 7. Python supports mainly two types of loops:\n",
        "\n",
        "- For Loop: Used when you know how many times to iterate -"
      ],
      "metadata": {
        "id": "jNusgzAirSvV"
      }
    },
    {
      "cell_type": "code",
      "source": [
        "for i in range(3):\n",
        "    print(i)"
      ],
      "metadata": {
        "colab": {
          "base_uri": "https://localhost:8080/"
        },
        "id": "d9aWKxIGreR6",
        "outputId": "cb73c8d7-4101-4fd9-c270-f4d7a6ecfc65"
      },
      "execution_count": 6,
      "outputs": [
        {
          "output_type": "stream",
          "name": "stdout",
          "text": [
            "0\n",
            "1\n",
            "2\n"
          ]
        }
      ]
    },
    {
      "cell_type": "markdown",
      "source": [
        "- While Loop: Used when the condition is checked before each iteration -"
      ],
      "metadata": {
        "id": "yQXXx7e3rgdo"
      }
    },
    {
      "cell_type": "code",
      "source": [
        "count = 0\n",
        "while count < 3:\n",
        "    print(count)\n",
        "    count += 1"
      ],
      "metadata": {
        "colab": {
          "base_uri": "https://localhost:8080/"
        },
        "id": "R4cGw6KkrjOA",
        "outputId": "78c73d61-9bce-4454-8064-d82996750876"
      },
      "execution_count": 7,
      "outputs": [
        {
          "output_type": "stream",
          "name": "stdout",
          "text": [
            "0\n",
            "1\n",
            "2\n"
          ]
        }
      ]
    },
    {
      "cell_type": "markdown",
      "source": [
        "Use Cases:\n",
        "\n",
        "- Use for loop for iterating over sequences (like lists, strings).\n",
        "\n",
        "- Use while loop when repeating until a condition becomes false."
      ],
      "metadata": {
        "id": "1lZ7xEjErlkQ"
      }
    }
  ]
}